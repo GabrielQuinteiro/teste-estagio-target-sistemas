{
  "cells": [
    {
      "cell_type": "markdown",
      "metadata": {
        "id": "QSreFGzwZeM_"
      },
      "source": [
        "# Desafio técnico Target Sistemas"
      ]
    },
    {
      "cell_type": "markdown",
      "metadata": {
        "id": "oYtI0khIZXA8"
      },
      "source": [
        "## 1) Observe o trecho de código abaixo:\n",
        "```\n",
        "int INDICE = 13, SOMA = 0, K = 0;\n",
        "Enquanto K < INDICE faça\n",
        "{\n",
        "  K = K + 1;\n",
        "  SOMA = SOMA + K;\n",
        "}\n",
        "Imprimir(SOMA);\n",
        "```\n",
        "Ao final do processamento, qual será o valor da variável SOMA?\n",
        "\n",
        "R: O algoritmo parece ser uma progressão aritmética por fazer uma soma consecutiva de números de 1 até 13.\n",
        "\n",
        "Soma = 13(13 + 1) / 2\n",
        "\n",
        "Soma = 13 * 14 / 2\n",
        "\n",
        "Soma = 182 / 2\n",
        "\n",
        "Soma = 91\n",
        "\n",
        "**Prova real:**"
      ]
    },
    {
      "cell_type": "code",
      "execution_count": 16,
      "metadata": {
        "colab": {
          "base_uri": "https://localhost:8080/"
        },
        "id": "h5cSXEDgb7gy",
        "outputId": "4cb2cc22-6a35-40c5-e63e-8bbe9851b364"
      },
      "outputs": [
        {
          "name": "stdout",
          "output_type": "stream",
          "text": [
            "91\n"
          ]
        }
      ],
      "source": [
        "def alg_soma():\n",
        "  indice = 13\n",
        "  soma = 0\n",
        "  k = 0\n",
        "\n",
        "  while k < indice:\n",
        "    k = k + 1\n",
        "    soma = soma + k\n",
        "  print(soma)\n",
        "\n",
        "alg_soma()"
      ]
    },
    {
      "cell_type": "markdown",
      "metadata": {
        "id": "YPS6inJqc0Eg"
      },
      "source": [
        "## 2) Dado a sequência de Fibonacci, onde se inicia por 0 e 1 e o próximo valor sempre será a soma dos 2 valores anteriores (exemplo: 0, 1, 1, 2, 3, 5, 8, 13, 21, 34...), escreva um programa na linguagem que desejar onde, informado um número, ele calcule a sequência de Fibonacci e retorne uma mensagem avisando se o número informado pertence ou não a sequência.\n",
        "\n",
        "**IMPORTANTE: Esse número pode ser informado através de qualquer entrada de sua preferência ou pode ser previamente definido no código;**"
      ]
    },
    {
      "cell_type": "code",
      "execution_count": 45,
      "metadata": {
        "colab": {
          "base_uri": "https://localhost:8080/"
        },
        "id": "RF7Pi_n4dAey",
        "outputId": "de7260c0-de8e-499c-b91f-743a78a3bb3e"
      },
      "outputs": [
        {
          "name": "stdout",
          "output_type": "stream",
          "text": [
            "Informe um número: 4\n",
            "O número 4 NÃO pertence à sequência de Fibonacci.\n"
          ]
        }
      ],
      "source": [
        "def esta_no_fibonacci(numero):\n",
        "  a = 0\n",
        "  b = 1\n",
        "\n",
        "  while b < numero:\n",
        "      a, b = b, a + b\n",
        "\n",
        "  if b == numero or numero == 0:\n",
        "      return f\"O número {numero} pertence à sequência de Fibonacci.\"\n",
        "  else:\n",
        "      return f\"O número {numero} NÃO pertence à sequência de Fibonacci.\"\n",
        "\n",
        "numero = int(input(\"Informe um número: \"))\n",
        "print(esta_no_fibonacci(numero))\n"
      ]
    },
    {
      "cell_type": "markdown",
      "metadata": {
        "id": "-TbcEIcceyUX"
      },
      "source": [
        "## 3) Dado um vetor que guarda o valor de faturamento diário de uma distribuidora, faça um programa, na linguagem que desejar, que calcule e retorne:\n",
        "\n",
        "*   O **menor** valor de faturamento ocorrido em um dia do mês;\n",
        "*   O **maior** valor de faturamento ocorrido em um dia do mês;\n",
        "*   Número de dias no mês em que o valor de faturamento diário foi superior à média mensal.\n",
        "\n",
        "**IMPORTANTE:**\n",
        "1.   Usar o json ou xml disponível como fonte dos dados do faturamento mensal;\n",
        "2.   Podem existir dias sem faturamento, como nos finais de semana e feriados. Estes dias devem ser ignorados no cálculo da média;\n",
        "\n",
        "\n"
      ]
    },
    {
      "cell_type": "code",
      "execution_count": 6,
      "metadata": {
        "id": "Z2WehJqbg6Ii"
      },
      "outputs": [
        {
          "name": "stdout",
          "output_type": "stream",
          "text": [
            "Menor valor de faturamento: R$373.78, Maior valor de faturamento: R$48924.24, Número de dias com faturamento acima da média: 10\n"
          ]
        }
      ],
      "source": [
        "import json\n",
        "\n",
        "\n",
        "def carregar_dados(caminho_arq):\n",
        "    with open(caminho_arq, 'r') as arquivo:\n",
        "        dados = json.load(arquivo)\n",
        "    return dados\n",
        "\n",
        "caminho_arq = 'dados.json'\n",
        "\n",
        "dados = carregar_dados(caminho_arq)\n",
        "\n",
        "faturamentos = []\n",
        "\n",
        "for dia in dados:\n",
        "    if dia['valor'] > 0:\n",
        "        faturamentos.append(dia['valor'])\n",
        "\n",
        "menor_faturamento = min(faturamentos)\n",
        "maior_faturamento = max(faturamentos)\n",
        "\n",
        "total_faturamento = sum(faturamentos)\n",
        "qtd_faturamentos = len(faturamentos)\n",
        "\n",
        "media_faturamento = total_faturamento / qtd_faturamentos\n",
        "\n",
        "dias_acima_da_media = 0\n",
        "for f in faturamentos:\n",
        "    if f > media_faturamento:\n",
        "        dias_acima_da_media += 1\n",
        "\n",
        "print(f\"Menor valor de faturamento no mês: R${menor_faturamento:.2f}\")\n",
        "print(f\"Maior valor de faturamento no mês: R${maior_faturamento:.2f}\")\n",
        "print(f\"Dias com faturamento acima da média: {dias_acima_da_media}\")"
      ]
    },
    {
      "cell_type": "markdown",
      "metadata": {
        "id": "pK8x0qMRgSvD"
      },
      "source": [
        "# 4) Dado o valor de faturamento mensal de uma distribuidora, detalhado por estado:\n",
        "*   SP – R$67.836,43\n",
        "\n",
        "*   RJ – R$36.678,66\n",
        "\n",
        "*   MG – R$29.229,88\n",
        "\n",
        "*   ES – R$27.165,48\n",
        "\n",
        "*   Outros – R$19.849,53\n",
        "\n",
        "Escreva um programa na linguagem que desejar onde calcule o percentual de representação que cada estado teve dentro do valor total mensal da distribuidora."
      ]
    },
    {
      "cell_type": "code",
      "execution_count": 44,
      "metadata": {
        "colab": {
          "base_uri": "https://localhost:8080/"
        },
        "id": "kUYRYFrUZMfW",
        "outputId": "511cf0de-6048-4bd4-c67b-69b7507f4176"
      },
      "outputs": [
        {
          "name": "stdout",
          "output_type": "stream",
          "text": [
            "Valor total mensal: R$180759.98\n",
            "SP: 37.53%\n",
            "RJ: 20.29%\n",
            "MG: 16.17%\n",
            "ES: 15.03%\n",
            "Outros: 10.98%\n"
          ]
        }
      ],
      "source": [
        "def percentual_faturamento():\n",
        "  faturamento = {\n",
        "      \"SP\":67836.43,\n",
        "      \"RJ\":36678.66,\n",
        "      \"MG\":29229.88,\n",
        "      \"ES\":27165.48,\n",
        "      \"Outros\":19849.53\n",
        "  }\n",
        "\n",
        "  valor_total = sum(faturamento.values())\n",
        "  print(f\"Valor total mensal: R${valor_total:.2f}\")\n",
        "\n",
        "  for estado in faturamento.items():\n",
        "    valor = estado[1]\n",
        "    percentual = (valor / valor_total) * 100\n",
        "    print(f\"{estado[0]}: {percentual:.2f}%\")\n",
        "\n",
        "percentual_faturamento()"
      ]
    },
    {
      "cell_type": "markdown",
      "metadata": {
        "id": "0bEur3Jvg-7r"
      },
      "source": [
        "# 5) Escreva um programa que inverta os caracteres de um string.\n",
        "\n",
        "**IMPORTANTE:**\n",
        "*   Essa string pode ser informada através de qualquer entrada de sua preferência ou pode ser previamente definida no código;\n",
        "*   Evite usar funções prontas, como, por exemplo, reverse;\n"
      ]
    },
    {
      "cell_type": "code",
      "execution_count": 24,
      "metadata": {
        "colab": {
          "base_uri": "https://localhost:8080/"
        },
        "id": "tl-bSNE7hSPZ",
        "outputId": "ccabfe6b-b56d-47ea-fee8-babcb5597c84"
      },
      "outputs": [
        {
          "name": "stdout",
          "output_type": "stream",
          "text": [
            "sametsis tegrat\n"
          ]
        }
      ],
      "source": [
        "def inverte_string():\n",
        "  #string = input(\"Digite algo: \") # input personalizado\n",
        "  string = \"target sistemas\"\n",
        "  string_invertida = \"\"\n",
        "\n",
        "  for char in string:\n",
        "    string_invertida = char + string_invertida\n",
        "  print(string_invertida)\n",
        "\n",
        "inverte_string()"
      ]
    }
  ],
  "metadata": {
    "colab": {
      "provenance": []
    },
    "kernelspec": {
      "display_name": "Python 3",
      "name": "python3"
    },
    "language_info": {
      "codemirror_mode": {
        "name": "ipython",
        "version": 3
      },
      "file_extension": ".py",
      "mimetype": "text/x-python",
      "name": "python",
      "nbconvert_exporter": "python",
      "pygments_lexer": "ipython3",
      "version": "3.11.5"
    }
  },
  "nbformat": 4,
  "nbformat_minor": 0
}
